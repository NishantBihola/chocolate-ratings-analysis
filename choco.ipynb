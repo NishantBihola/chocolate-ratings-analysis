{
 "cells": [
  {
   "cell_type": "code",
   "execution_count": null,
   "id": "6d5feee4",
   "metadata": {},
   "outputs": [
    {
     "ename": "",
     "evalue": "",
     "output_type": "error",
     "traceback": [
      "\u001b[1;31mThe kernel failed to start as the Python Environment 'Python 3.10.2' is no longer available. Consider selecting another kernel or refreshing the list of Python Environments."
     ]
    }
   ],
   "source": [
    "!pip install pandas numpy matplotlib seaborn scikit-learn\n"
   ]
  },
  {
   "cell_type": "code",
   "execution_count": null,
   "id": "ec32e255",
   "metadata": {},
   "outputs": [],
   "source": [
    "import pandas as pd\n",
    "import numpy as np\n",
    "import matplotlib.pyplot as plt\n",
    "import seaborn as sns\n",
    "from sklearn.preprocessing import MinMaxScaler, LabelEncoder\n",
    "import warnings\n",
    "warnings.filterwarnings('ignore')\n",
    "\n",
    "plt.style.use('seaborn-v0_8')\n",
    "sns.set_palette(\"husl\")\n",
    "\n",
    "print(\"✅ Libraries imported successfully!\")"
   ]
  },
  {
   "cell_type": "code",
   "execution_count": null,
   "id": "84bb07d0",
   "metadata": {},
   "outputs": [],
   "source": [
    "df = pd.read_csv(\"flavors_of_cacao.csv\")\n",
    "df.head()"
   ]
  },
  {
   "cell_type": "code",
   "execution_count": null,
   "id": "f34eda42",
   "metadata": {},
   "outputs": [],
   "source": [
    "df.columns = df.columns.str.replace('\\xa0', '', regex=True).str.replace('\\n', ' ').str.strip()\n",
    "df.rename(columns={\n",
    "    \"Company (Maker-if known)\": \"Company\",\n",
    "    \"Review Date\": \"Review_Year\",\n",
    "    \"Company Location\": \"Company_Location\",\n",
    "    \"Cocoa Percent\": \"Cocoa_Percent\",\n",
    "    \"Bean Type\": \"Bean_Type\",\n",
    "    \"Broad Bean Origin\": \"Broad_Bean_Origin\"\n",
    "}, inplace=True)\n",
    "\n",
    "df.head()"
   ]
  },
  {
   "cell_type": "code",
   "execution_count": null,
   "id": "6a8ce5db",
   "metadata": {},
   "outputs": [],
   "source": [
    "df_clean = df.dropna()\n",
    "print(\"✅ Missing values removed!\")"
   ]
  },
  {
   "cell_type": "code",
   "execution_count": null,
   "id": "209c5089",
   "metadata": {},
   "outputs": [],
   "source": [
    "print(\"📊 Total tuples:\", df_clean.shape[0])\n",
    "print(\"🏭 Unique companies:\", df_clean['Company'].nunique())\n",
    "print(\"📅 Reviews in 2013:\", df_clean[df_clean['Review_Year'] == 2013].shape[0])\n",
    "print(\"❓ Missing 'Bean_Type' values:\", df['Bean_Type'].isna().sum())"
   ]
  },
  {
   "cell_type": "code",
   "execution_count": null,
   "id": "195e59b5",
   "metadata": {},
   "outputs": [],
   "source": [
    "plt.figure(figsize=(8,5))\n",
    "sns.histplot(df_clean['Rating'], bins=20, kde=True)\n",
    "plt.title(\"Distribution of Chocolate Ratings\")\n",
    "plt.xlabel(\"Rating\")\n",
    "plt.ylabel(\"Frequency\")\n",
    "plt.show()"
   ]
  },
  {
   "cell_type": "code",
   "execution_count": null,
   "id": "8cbf0d80",
   "metadata": {},
   "outputs": [],
   "source": [
    "df_clean['Cocoa_Percent'] = df_clean['Cocoa_Percent'].str.replace('%', '').astype(float)\n",
    "df_clean.head()"
   ]
  },
  {
   "cell_type": "code",
   "execution_count": null,
   "id": "c8f49e20",
   "metadata": {},
   "outputs": [],
   "source": [
    "plt.figure(figsize=(8,5))\n",
    "plt.scatter(df_clean['Cocoa_Percent'], df_clean['Rating'], alpha=0.3)\n",
    "plt.title(\"Cocoa % vs Rating\")\n",
    "plt.xlabel(\"Cocoa Percent\")\n",
    "plt.ylabel(\"Rating\")\n",
    "plt.grid(True)\n",
    "plt.show()"
   ]
  },
  {
   "cell_type": "code",
   "execution_count": null,
   "id": "bc94e462",
   "metadata": {},
   "outputs": [],
   "source": [
    "scaler = MinMaxScaler()\n",
    "df_clean['Normalized_Rating'] = scaler.fit_transform(df_clean[['Rating']])\n",
    "df_clean[['Rating', 'Normalized_Rating']].head()"
   ]
  },
  {
   "cell_type": "code",
   "execution_count": null,
   "id": "848186cf",
   "metadata": {},
   "outputs": [],
   "source": [
    "avg_ratings = df_clean.groupby('Company')['Rating'].mean().sort_values(ascending=False)\n",
    "avg_ratings.head(10)"
   ]
  },
  {
   "cell_type": "code",
   "execution_count": null,
   "id": "7075f7d5",
   "metadata": {},
   "outputs": [],
   "source": [
    "le_company = LabelEncoder()\n",
    "le_location = LabelEncoder()\n",
    "\n",
    "df_clean['Company_Encoded'] = le_company.fit_transform(df_clean['Company'])\n",
    "df_clean['Location_Encoded'] = le_location.fit_transform(df_clean['Company_Location'])\n",
    "\n",
    "print(\"✅ Categorical encoding complete!\")\n",
    "df_clean[['Company', 'Company_Encoded', 'Company_Location', 'Location_Encoded']].head()"
   ]
  }
 ],
 "metadata": {
  "kernelspec": {
   "display_name": ".venv (3.10.2)",
   "language": "python",
   "name": "python3"
  },
  "language_info": {
   "name": "python",
   "version": "3.10.2"
  }
 },
 "nbformat": 4,
 "nbformat_minor": 5
}
